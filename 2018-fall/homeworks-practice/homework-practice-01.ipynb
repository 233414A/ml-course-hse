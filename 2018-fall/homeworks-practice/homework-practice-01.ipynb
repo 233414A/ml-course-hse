{
  "cells": [
    {
      "cell_type": "markdown",
      "source": [
        "# Машинное обучение, ФКН ВШЭ\n",
        "\n",
        "## Практическое задание 1\n",
        "\n",
        "### Общая информация\n",
        "Дата выдачи: 07.09.2018  \n",
        "\n",
        "Мягкий дедлайн: 07:59MSK 15.09.2018 (за каждый день просрочки снимается 1 балл)\n",
        "\nЖесткий дедлайн: 23:59MSK 16.09.2018"
      ],
      "metadata": {}
    },
    {
      "cell_type": "markdown",
      "source": [
        "### О задании\n",
        "\n",
        "Задание состоит из двух разделов, посвященных работе с табличными данными с помощью библиотеки pandas и визуализации с помощью matplotlib. В каждом разделе вам предлагается выполнить несколько заданий. Баллы даются за выполнение отдельных пунктов. Задачи в рамках одного раздела рекомендуется решать в том порядке, в котором они даны в задании.\n",
        "\n",
        "Задание направлено на освоение jupyter notebook (будет использоваться в дальнейших заданиях), библиотекам pandas и matplotlib.\n",
        "\n",
        "### Оценивание и штрафы\n",
        "Каждая из задач имеет определенную «стоимость» (указана в скобках около задачи). Максимально допустимая оценка за работу — 10 баллов.\n",
        "\n",
        "Сдавать задание после указанного срока сдачи нельзя. При выставлении неполного балла за задание в связи с наличием ошибок на усмотрение проверяющего предусмотрена возможность исправить работу на указанных в ответном письме условиях.\n",
        "\n",
        "Задание выполняется самостоятельно. «Похожие» решения считаются плагиатом и все задействованные студенты (в том числе те, у кого списали) не могут получить за него больше 0 баллов (подробнее о плагиате см. на странице курса). Если вы нашли решение какого-то из заданий (или его часть) в открытом источнике, необходимо указать ссылку на этот источник в отдельном блоке в конце вашей работы (скорее всего вы будете не единственным, кто это нашел, поэтому чтобы исключить подозрение в плагиате, необходима ссылка на источник).\n",
        "\n",
        "### Формат сдачи\n",
        "Почта: hse.cs.ml+<номер группы>@gmail.com (например, hse.cs.ml+141@gmail.com для студентов группы БПМИ-141)\n",
        "\n",
        "Пришлите на почту ноутбуке homework-practice-01-Username.ipyhon с выполненным заданием (Username — ваша фамилия и имя на латинице именно в таком порядке).\n",
        "\nДля удобства проверки самостоятельно посчитайте свою максимальную оценку (исходя из набора решенных задач) и укажите ниже."
      ],
      "metadata": {}
    },
    {
      "cell_type": "markdown",
      "source": [
        "## 0. Введение"
      ],
      "metadata": {}
    },
    {
      "cell_type": "markdown",
      "source": [
        "Сейчас мы находимся в jupyter-ноутбуке (или ipython-ноутбуке). Это удобная среда для написания кода, проведения экспериментов, изучения данных, построения визуализаций и других нужд, не связанных с написаем production-кода. \n",
        "\n",
        "Ноутбук состоит из ячеек, каждая из которых может быть либо ячейкой с кодом, либо ячейкой с текстом размеченным и неразмеченным. Текст поддерживает markdown-разметку и формулы в Latex.\n",
        "\n",
        "Для работы с содержимым ячейки используется *режим редактирования* (*Edit mode*, включается нажатием клавиши **Enter** после выбора ячейки), а для навигации между ячейками искользуется *командный режим* (*Command mode*, включается нажатием клавиши **Esc**). Тип ячейки можно задать в командном режиме либо с помощью горячих клавиш (**y** to code, **m** to markdown, **r** to edit raw text), либо в меню *Cell -> Cell type*. \n",
        "\nПосле заполнения ячейки нужно нажать *Shift + Enter*, эта команда обработает содержимое ячейки: проинтерпретирует код или сверстает размеченный текст."
      ],
      "metadata": {
        "collapsed": true
      }
    },
    {
      "cell_type": "code",
      "source": [
        "# ячейка с кодом, при выполнении которой появится output\n",
        "2 + 2"
      ],
      "outputs": [],
      "execution_count": null,
      "metadata": {
        "ExecuteTime": {
          "end_time": "2018-08-31T08:48:38.680663Z",
          "start_time": "2018-08-31T08:48:38.675222Z"
        }
      }
    },
    {
      "cell_type": "markdown",
      "source": [
        "А это ___ячейка с текстом___."
      ],
      "metadata": {}
    },
    {
      "cell_type": "raw",
      "source": [
        "Ячейка с неразмеченыным текстом."
      ],
      "metadata": {}
    },
    {
      "cell_type": "markdown",
      "source": [
        "Попробуйте создать свои ячейки, написать какой-нибудь код и текст какой-нибудь формулой."
      ],
      "metadata": {}
    },
    {
      "cell_type": "code",
      "source": [
        "# your code"
      ],
      "outputs": [],
      "execution_count": null,
      "metadata": {
        "ExecuteTime": {
          "end_time": "2018-08-31T10:54:05.913633Z",
          "start_time": "2018-08-31T10:54:05.911075Z"
        }
      }
    },
    {
      "cell_type": "markdown",
      "source": [
        "[Здесь](https://athena.brynmawr.edu/jupyter/hub/dblank/public/Jupyter%20Notebook%20Users%20Manual.ipynb) находится <s>не</s>большая заметка о используемом языке разметки Markdown. Он позволяет:\n",
        "\n",
        "0. Составлять упорядоченные списки\n",
        "1. #Делать \n",
        "##заголовки \n",
        "###разного уровня\n",
        "3. Выделять *текст* <s>при</s> **необходимости**\n",
        "4. Добавлять [ссылки](http://imgs.xkcd.com/comics/the_universal_label.png)\n",
        "\n\n",
        "* Составлять неупорядоченные списки\n",
        "\n",
        "Делать вставки с помощью LaTex:\n",
        "    \n",
        "$\n",
        "\\left\\{\n",
        "\\begin{array}{ll}\n",
        "x = 16 \\sin^3 (t) \\\\ \n",
        "y = 13 \\cos (t) - 5 \\cos (2t) - 2 \\cos (3t) - \\cos (4t) \\\\\n",
        "t \\in [0, 2 \\pi]\n",
        "\\end{array}\n",
        "\\right.$"
      ],
      "metadata": {}
    },
    {
      "cell_type": "markdown",
      "source": [
        "## 1. Табличные данные и Pandas"
      ],
      "metadata": {}
    },
    {
      "cell_type": "markdown",
      "source": [
        "Pandas — удобная библиотека для работы с табличными данными в Python, если данных не слишком много и они помещаются в оперативную память вашего компьютера. Несмотря на неэффективность реализации и некоторые проблемы, библиотека стала стандартом в анализе данных. С этой библиотекой мы сейчас и познакомимся.\n",
        "\n",
        "В этой части потребуется выполнить несколько небольших заданий. Можно пойти двумя путями: сначала изучить материалы, а потом приступить к заданиям, или же разбираться \"по ходу\". Выбирайте сами.\n",
        "\n",
        "Материалы:\n",
        "1. [Pandas за 10 минут из официального руководства](http://pandas.pydata.org/pandas-docs/stable/10min.html)\n",
        "2. [Документация](http://pandas.pydata.org/pandas-docs/stable/index.html) (стоит обращаться, если не понятно, как вызывать конкретный метод)\n",
        "3. [Примеры использования функционала](http://nbviewer.jupyter.org/github/justmarkham/pandas-videos/blob/master/pandas.ipynb)\n",
        "\nМногие из заданий можно выполнить несколькими способами. Не существуют единственно верного, но попробуйте максимально задействовать арсенал pandas и ориентируйтесь на простоту и понятность вашего кода. Мы не будем подсказывать, что нужно использовать для решения конкретной задачи, попробуйте находить необходимый функционал сами (название метода чаще всего очевидно)."
      ],
      "metadata": {}
    },
    {
      "cell_type": "code",
      "source": [
        "%pylab inline  # import almost all we need\n",
        "import pandas as pd"
      ],
      "outputs": [],
      "execution_count": null,
      "metadata": {
        "ExecuteTime": {
          "end_time": "2018-08-30T20:55:09.884623Z",
          "start_time": "2018-08-30T20:55:09.018176Z"
        }
      }
    },
    {
      "cell_type": "markdown",
      "source": [
        "#### 1. Откройте файл с таблицей (не забудьте про её формат). Выведите последние 10 строк.\n",
        "\nПосмотрите на данные и скажите, что они из себя представляют, сколько в таблице строк, какие столбцы?"
      ],
      "metadata": {}
    },
    {
      "cell_type": "code",
      "source": [
        "# your code"
      ],
      "outputs": [],
      "execution_count": null,
      "metadata": {
        "ExecuteTime": {
          "end_time": "2018-08-30T21:00:17.313113Z",
          "start_time": "2018-08-30T21:00:17.309068Z"
        }
      }
    },
    {
      "cell_type": "markdown",
      "source": [
        "#### 2. Ответьте на вопросы:\n",
        "1. Сколько заказов попало в выборку?\n",
        "2. Сколько уникальных категорий товара было куплено? (item_name)"
      ],
      "metadata": {}
    },
    {
      "cell_type": "code",
      "source": [
        "# your code"
      ],
      "outputs": [],
      "execution_count": null,
      "metadata": {
        "ExecuteTime": {
          "end_time": "2018-08-30T21:00:17.313113Z",
          "start_time": "2018-08-30T21:00:17.309068Z"
        }
      }
    },
    {
      "cell_type": "markdown",
      "source": [
        "#### 3. Есть ли в данных пропуски? В каких колонках? "
      ],
      "metadata": {}
    },
    {
      "cell_type": "code",
      "source": [
        "# your code"
      ],
      "outputs": [],
      "execution_count": null,
      "metadata": {
        "ExecuteTime": {
          "end_time": "2018-08-30T21:00:17.313113Z",
          "start_time": "2018-08-30T21:00:17.309068Z"
        }
      }
    },
    {
      "cell_type": "markdown",
      "source": [
        "Заполните пропуски пустой строкой для строковых колонок и нулём для числовых."
      ],
      "metadata": {}
    },
    {
      "cell_type": "code",
      "source": [
        "# your code"
      ],
      "outputs": [],
      "execution_count": null,
      "metadata": {
        "ExecuteTime": {
          "end_time": "2018-08-30T21:00:17.313113Z",
          "start_time": "2018-08-30T21:00:17.309068Z"
        }
      }
    },
    {
      "cell_type": "markdown",
      "source": [
        "#### 4. Посмотрите внимательнее на колонку с ценой товара. Какого она типа? Создайте новую колонку так, чтобы в ней цена была числом.\n",
        "\nДля этого попробуйте применить функцию-преобразование к каждой строке вашей таблицы."
      ],
      "metadata": {}
    },
    {
      "cell_type": "code",
      "source": [
        "# your code"
      ],
      "outputs": [],
      "execution_count": null,
      "metadata": {
        "ExecuteTime": {
          "end_time": "2018-08-30T21:00:17.313113Z",
          "start_time": "2018-08-30T21:00:17.309068Z"
        }
      }
    },
    {
      "cell_type": "markdown",
      "source": [
        "Какая средняя/минимальная/максимальная цена у товара? "
      ],
      "metadata": {}
    },
    {
      "cell_type": "code",
      "source": [
        "# your code"
      ],
      "outputs": [],
      "execution_count": null,
      "metadata": {
        "ExecuteTime": {
          "end_time": "2018-08-30T21:00:17.313113Z",
          "start_time": "2018-08-30T21:00:17.309068Z"
        }
      }
    },
    {
      "cell_type": "markdown",
      "source": [
        "Удалите старую колонку с ценой."
      ],
      "metadata": {}
    },
    {
      "cell_type": "code",
      "source": [
        "# your code"
      ],
      "outputs": [],
      "execution_count": null,
      "metadata": {
        "ExecuteTime": {
          "end_time": "2018-08-30T21:00:17.313113Z",
          "start_time": "2018-08-30T21:00:17.309068Z"
        }
      }
    },
    {
      "cell_type": "markdown",
      "source": [
        "#### 5. Какие 5 товаров были самыми дешёвыми и самыми дорогими? (по choice_description)\n",
        "\nДля этого будет удобно избавиться от дубликатов и отсортировать товары. Не забудьте про количество товара."
      ],
      "metadata": {}
    },
    {
      "cell_type": "code",
      "source": [
        "# your code"
      ],
      "outputs": [],
      "execution_count": null,
      "metadata": {
        "ExecuteTime": {
          "end_time": "2018-08-30T21:00:17.313113Z",
          "start_time": "2018-08-30T21:00:17.309068Z"
        }
      }
    },
    {
      "cell_type": "markdown",
      "source": [
        "#### 6. Сколько раз клиенты покупали больше 1 Chicken Bowl (item_name)?"
      ],
      "metadata": {}
    },
    {
      "cell_type": "code",
      "source": [
        "# your code"
      ],
      "outputs": [],
      "execution_count": null,
      "metadata": {
        "ExecuteTime": {
          "end_time": "2018-08-30T21:00:17.313113Z",
          "start_time": "2018-08-30T21:00:17.309068Z"
        }
      }
    },
    {
      "cell_type": "markdown",
      "source": [
        "#### 7.  Какой средний чек у заказа? Сколько в среднем товаров покупают?\n",
        "\nЕсли необходимо провести вычисления в терминах заказов, то будет удобно сгруппировать строки по заказам и посчитать необходимые статистики."
      ],
      "metadata": {}
    },
    {
      "cell_type": "code",
      "source": [
        "# your code"
      ],
      "outputs": [],
      "execution_count": null,
      "metadata": {
        "ExecuteTime": {
          "end_time": "2018-08-30T21:00:17.313113Z",
          "start_time": "2018-08-30T21:00:17.309068Z"
        }
      }
    },
    {
      "cell_type": "markdown",
      "source": [
        "#### 8.  Сколько заказов содержали ровно 1 товар?"
      ],
      "metadata": {}
    },
    {
      "cell_type": "code",
      "source": [
        "# your code"
      ],
      "outputs": [],
      "execution_count": null,
      "metadata": {
        "ExecuteTime": {
          "end_time": "2018-08-30T21:00:17.313113Z",
          "start_time": "2018-08-30T21:00:17.309068Z"
        }
      }
    },
    {
      "cell_type": "markdown",
      "source": [
        "#### 9. Какая самая популярная категория товара? "
      ],
      "metadata": {
        "ExecuteTime": {
          "end_time": "2018-08-30T22:07:54.030256Z",
          "start_time": "2018-08-30T22:07:53.996034Z"
        }
      }
    },
    {
      "cell_type": "code",
      "source": [
        "# your code"
      ],
      "outputs": [],
      "execution_count": null,
      "metadata": {
        "ExecuteTime": {
          "end_time": "2018-08-30T21:00:17.313113Z",
          "start_time": "2018-08-30T21:00:17.309068Z"
        }
      }
    },
    {
      "cell_type": "markdown",
      "source": [
        "#### 10. Какие виды Burrito существуют? Какой из них чаще всего покупают? Какой из них самый дорогой? "
      ],
      "metadata": {}
    },
    {
      "cell_type": "code",
      "source": [
        "# your code"
      ],
      "outputs": [],
      "execution_count": null,
      "metadata": {
        "ExecuteTime": {
          "end_time": "2018-08-30T21:00:17.313113Z",
          "start_time": "2018-08-30T21:00:17.309068Z"
        }
      }
    },
    {
      "cell_type": "markdown",
      "source": [
        "#### 11. В каком количестве заказов есть товар, который стоит более 40% от суммы всего чека?\n",
        "\nВозможно, будет удобно посчитать отдельно средний чек, добавить его в исходные данные и сделать необходимые проверки."
      ],
      "metadata": {
        "collapsed": true
      }
    },
    {
      "cell_type": "code",
      "source": [
        "# your code"
      ],
      "outputs": [],
      "execution_count": null,
      "metadata": {
        "ExecuteTime": {
          "end_time": "2018-08-30T21:00:17.313113Z",
          "start_time": "2018-08-30T21:00:17.309068Z"
        }
      }
    },
    {
      "cell_type": "markdown",
      "source": [
        "#### 12. Предположим, что в данных была ошибка и Diet Coke (choice_description), который стоил $1.25, должен был стоить 1.35. Скорректируйте данные в таблицы и посчитайте, на какой процент больше денег было заработано с этого товара. Не забывайте, что количество товара не всегда равно 1."
      ],
      "metadata": {}
    },
    {
      "cell_type": "code",
      "source": [
        "# your code"
      ],
      "outputs": [],
      "execution_count": null,
      "metadata": {
        "ExecuteTime": {
          "end_time": "2018-08-30T21:00:17.313113Z",
          "start_time": "2018-08-30T21:00:17.309068Z"
        }
      }
    },
    {
      "cell_type": "markdown",
      "source": [
        "#### 13. Создайте новый DateFrame из матрицы, созданной ниже. Назовите колонки index, column1, column2 и сделайте первую колонку индексом."
      ],
      "metadata": {}
    },
    {
      "cell_type": "code",
      "source": [
        "data = np.random.randint(10, 3)\n",
        "\n# your code"
      ],
      "outputs": [],
      "execution_count": null,
      "metadata": {}
    },
    {
      "cell_type": "markdown",
      "source": [
        "Сохраните DataFrame на диск в формате csv без индексов и названий столбцов."
      ],
      "metadata": {}
    },
    {
      "cell_type": "code",
      "source": [
        "# your code"
      ],
      "outputs": [],
      "execution_count": null,
      "metadata": {
        "ExecuteTime": {
          "end_time": "2018-08-30T21:00:17.313113Z",
          "start_time": "2018-08-30T21:00:17.309068Z"
        }
      }
    },
    {
      "cell_type": "markdown",
      "source": [
        "## 2. Визуализации и matplotlib"
      ],
      "metadata": {}
    },
    {
      "cell_type": "markdown",
      "source": [
        "При работе с данными часто неудобно делать какие-то выводы, если смотреть на таблицу и числа в частности, поэтому важно уметь визуализировать данные. В этом разделе мы этим и займёмся.\n",
        "\n",
        "У matplotlib, конечно, же есть [документация](https://matplotlib.org/users/index.html) с большим количеством [примеров](https://matplotlib.org/examples/), но для начала достаточно знать про несколько основных типов графиков:\n",
        "- plot — обычный поточечный график, которым можно изображать кривые или отдельные точки;\n",
        "- hist — гистограмма, показывающая распределение некоторое величины;\n",
        "- scatter — график, показывающий взаимосвязь двух величин;\n",
        "- bar — столбцовый график, показывающий взаимосвязь количественной величины от категориальной.\n",
        "\n",
        "В этом задании вы попробуете построить каждый из них. Не менее важно усвоить базовые принципы визуализаций:\n",
        "- на графиках должны быть подписаны оси;\n",
        "- у визуализации должно быть название;\n",
        "- если изображено несколько графиков, то необходима поясняющая легенда;\n",
        "- все линии на графиках должны быть чётко видны (нет похожих цветов или цветов, сливающихся с фоном);\n",
        "- если отображена величина, имеющая очевидный диапазон значений (например, проценты могут быть от 0 до 100), то желательно масштабировать ось на весь диапазон значений (исключением является случай, когда вам необходимо показать малое отличие, которое незаметно в таких масштабах)."
      ],
      "metadata": {}
    },
    {
      "cell_type": "code",
      "source": [
        "%matplotlib inline  # нужно для отображения графиков внутри ноутбука\n",
        "import matplotlib.pyplot as plt"
      ],
      "outputs": [],
      "execution_count": null,
      "metadata": {}
    },
    {
      "cell_type": "markdown",
      "source": [
        "На самом деле мы уже импортировали matplotlib внутри %pylab inline в начале задания.\n",
        "\nРаботать мы будем с той же выборкой покупкок. Добавим новую колонку с датой покупки."
      ],
      "metadata": {}
    },
    {
      "cell_type": "code",
      "source": [
        "import datetime\n",
        "\n",
        "start = datetime.datetime(2018, 1, 1)\n",
        "end = datetime.datetime(2018, 1, 31)\n",
        "delta_seconds = int((end - start).total_seconds())\n",
        "\n",
        "dates = pd.DataFrame(index=df.order_id.unique())\n",
        "dates['date'] = [\n",
        "    (start + datetime.timedelta(seconds=random.randint(0, delta_seconds))).strftime('%Y-%m-%d')\n",
        "    for _ in range(df.order_id.nunique())]\n",
        "\n",
        "# если DataFrame с покупками из прошлого заказа называется не df, замените на ваше название ниже\n",
        "df['date'] = df.order_id.map(dates['date'])"
      ],
      "outputs": [],
      "execution_count": null,
      "metadata": {
        "ExecuteTime": {
          "end_time": "2018-08-31T20:21:42.430077Z",
          "start_time": "2018-08-31T20:21:42.383896Z"
        }
      }
    },
    {
      "cell_type": "markdown",
      "source": [
        "#### 1. Постройте гистограмму распределения сумм покупок и гистограмму средних цен отдельных видов продуктов item_name. \n",
        "\nИзображайте на двух соседних графиках. Для этого может быть полезен subplot."
      ],
      "metadata": {}
    },
    {
      "cell_type": "code",
      "source": [
        "# your code"
      ],
      "outputs": [],
      "execution_count": null,
      "metadata": {
        "ExecuteTime": {
          "end_time": "2018-08-30T21:00:17.313113Z",
          "start_time": "2018-08-30T21:00:17.309068Z"
        }
      }
    },
    {
      "cell_type": "markdown",
      "source": [
        "#### 2. Постройте график зависимости суммы покупок от дней."
      ],
      "metadata": {}
    },
    {
      "cell_type": "code",
      "source": [
        "# your code"
      ],
      "outputs": [],
      "execution_count": null,
      "metadata": {
        "ExecuteTime": {
          "end_time": "2018-08-30T21:00:17.313113Z",
          "start_time": "2018-08-30T21:00:17.309068Z"
        }
      }
    },
    {
      "cell_type": "markdown",
      "source": [
        "#### 3. Постройте средних сумм покупок по дням недели (bar plot)."
      ],
      "metadata": {}
    },
    {
      "cell_type": "code",
      "source": [
        "# your code"
      ],
      "outputs": [],
      "execution_count": null,
      "metadata": {
        "ExecuteTime": {
          "end_time": "2018-08-30T21:00:17.313113Z",
          "start_time": "2018-08-30T21:00:17.309068Z"
        }
      }
    },
    {
      "cell_type": "markdown",
      "source": [
        "#### 4. Постройте график зависимости денег за товар от купленного количества (scatter plot)."
      ],
      "metadata": {}
    },
    {
      "cell_type": "code",
      "source": [
        "# your code"
      ],
      "outputs": [],
      "execution_count": null,
      "metadata": {
        "ExecuteTime": {
          "end_time": "2018-08-30T21:00:17.313113Z",
          "start_time": "2018-08-30T21:00:17.309068Z"
        }
      }
    },
    {
      "cell_type": "markdown",
      "source": [
        "Сохраните график в формате pdf (так он останется векторизованным)."
      ],
      "metadata": {}
    },
    {
      "cell_type": "code",
      "source": [
        "# your code"
      ],
      "outputs": [],
      "execution_count": null,
      "metadata": {
        "ExecuteTime": {
          "end_time": "2018-08-30T21:00:17.313113Z",
          "start_time": "2018-08-30T21:00:17.309068Z"
        }
      }
    },
    {
      "cell_type": "markdown",
      "source": [
        "Кстати, существует надстройка над matplotlib под названием [seaborn](https://jakevdp.github.io/PythonDataScienceHandbook/04.14-visualization-with-seaborn.html). Иногда удобнее и красивее делать визуализации через неё. "
      ],
      "metadata": {}
    }
  ],
  "metadata": {
    "kernelspec": {
      "name": "py36",
      "language": "python",
      "display_name": "py36"
    },
    "language_info": {
      "name": "python",
      "version": "3.6.4",
      "mimetype": "text/x-python",
      "codemirror_mode": {
        "name": "ipython",
        "version": 3
      },
      "pygments_lexer": "ipython3",
      "nbconvert_exporter": "python",
      "file_extension": ".py"
    },
    "kernel_info": {
      "name": "py36"
    },
    "nteract": {
      "version": "0.11.6"
    }
  },
  "nbformat": 4,
  "nbformat_minor": 2
}